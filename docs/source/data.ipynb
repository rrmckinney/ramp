{
 "cells": [
  {
   "cell_type": "markdown",
   "id": "ddabffd1",
   "metadata": {},
   "source": [
    "# RAMP AQ Data"
   ]
  },
  {
   "cell_type": "markdown",
   "id": "320fa8b8",
   "metadata": {},
   "source": [
    "RAMP AQ data from the WFRT rooftop is read in with the function below."
   ]
  },
  {
   "cell_type": "code",
   "execution_count": 4,
   "id": "677c9c9b",
   "metadata": {
    "execution": {
     "iopub.execute_input": "2022-09-30T23:00:04.485771Z",
     "iopub.status.busy": "2022-09-30T23:00:04.485484Z",
     "iopub.status.idle": "2022-09-30T23:00:13.869828Z",
     "shell.execute_reply": "2022-09-30T23:00:13.868932Z"
    }
   },
   "outputs": [
    {
     "ename": "ModuleNotFoundError",
     "evalue": "No module named 'func'",
     "output_type": "error",
     "traceback": [
      "\u001b[0;31m---------------------------------------------------------------------------\u001b[0m",
      "\u001b[0;31mModuleNotFoundError\u001b[0m                       Traceback (most recent call last)",
      "\u001b[1;32m/Users/rmckinney/ramp/docs/source/data.ipynb Cell 3\u001b[0m in \u001b[0;36m<cell line: 1>\u001b[0;34m()\u001b[0m\n\u001b[0;32m----> <a href='vscode-notebook-cell://ssh-remote%2Bimac/Users/rmckinney/ramp/docs/source/data.ipynb#W3sdnNjb2RlLXJlbW90ZQ%3D%3D?line=0'>1</a>\u001b[0m \u001b[39mfrom\u001b[39;00m \u001b[39mfunc\u001b[39;00m \u001b[39mimport\u001b[39;00m run\n\u001b[1;32m      <a href='vscode-notebook-cell://ssh-remote%2Bimac/Users/rmckinney/ramp/docs/source/data.ipynb#W3sdnNjb2RlLXJlbW90ZQ%3D%3D?line=2'>3</a>\u001b[0m run()\n",
      "\u001b[0;31mModuleNotFoundError\u001b[0m: No module named 'func'"
     ]
    }
   ],
   "source": [
    "from func import run\n",
    "\n",
    "run()"
   ]
  }
 ],
 "metadata": {
  "interpreter": {
   "hash": "31c9f3cef3e4b8b89a9876e83be0e55410b5f7e641b73fed5b2bc73b0950fd90"
  },
  "jupytext": {
   "cell_metadata_filter": "-all",
   "notebook_metadata_filter": "-all"
  },
  "kernelspec": {
   "display_name": "Python 3 (ipykernel)",
   "language": "python",
   "name": "python3"
  },
  "language_info": {
   "codemirror_mode": {
    "name": "ipython",
    "version": 3
   },
   "file_extension": ".py",
   "mimetype": "text/x-python",
   "name": "python",
   "nbconvert_exporter": "python",
   "pygments_lexer": "ipython3",
   "version": "3.9.13"
  }
 },
 "nbformat": 4,
 "nbformat_minor": 5
}
