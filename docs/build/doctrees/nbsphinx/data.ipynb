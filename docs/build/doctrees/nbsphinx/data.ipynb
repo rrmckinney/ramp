{
 "cells": [
  {
   "cell_type": "markdown",
   "id": "320fa8b8",
   "metadata": {},
   "source": [
    "To see realtime air quality data from the WRFT rooftop weather station, please click on the cell below and hit ctrl-enter. "
   ]
  },
  {
   "cell_type": "code",
   "execution_count": 343,
   "id": "677c9c9b",
   "metadata": {},
   "outputs": [
    {
     "ename": "ImportError",
     "evalue": "cannot import name 'data' from 'func' (/Users/rmckinney/ramp/docs/source/func.py)",
     "output_type": "error",
     "traceback": [
      "\u001b[0;31m---------------------------------------------------------------------------\u001b[0m",
      "\u001b[0;31mImportError\u001b[0m                               Traceback (most recent call last)",
      "\u001b[1;32m/Users/rmckinney/ramp/docs/source/data.ipynb Cell 2'\u001b[0m in \u001b[0;36m<cell line: 8>\u001b[0;34m()\u001b[0m\n\u001b[1;32m      <a href='vscode-notebook-cell:/Users/rmckinney/ramp/docs/source/data.ipynb#ch0000001?line=4'>5</a>\u001b[0m \u001b[39mimport\u001b[39;00m \u001b[39mos\u001b[39;00m\u001b[39m.\u001b[39;00m\u001b[39mpath\u001b[39;00m\n\u001b[1;32m      <a href='vscode-notebook-cell:/Users/rmckinney/ramp/docs/source/data.ipynb#ch0000001?line=5'>6</a>\u001b[0m \u001b[39mfrom\u001b[39;00m \u001b[39mdatetime\u001b[39;00m \u001b[39mimport\u001b[39;00m date, timedelta\n\u001b[0;32m----> <a href='vscode-notebook-cell:/Users/rmckinney/ramp/docs/source/data.ipynb#ch0000001?line=7'>8</a>\u001b[0m \u001b[39mfrom\u001b[39;00m \u001b[39mfunc\u001b[39;00m \u001b[39mimport\u001b[39;00m data\n\u001b[1;32m     <a href='vscode-notebook-cell:/Users/rmckinney/ramp/docs/source/data.ipynb#ch0000001?line=9'>10</a>\u001b[0m data()\n",
      "\u001b[0;31mImportError\u001b[0m: cannot import name 'data' from 'func' (/Users/rmckinney/ramp/docs/source/func.py)"
     ]
    }
   ],
   "source": [
    "import wget\n",
    "import pandas as pd\n",
    "import matplotlib.pyplot as plt \n",
    "import numpy as np\n",
    "import os.path\n",
    "from datetime import date, timedelta\n",
    "\n",
    "from func import data\n",
    "\n",
    "data()\n"
   ]
  }
 ],
 "metadata": {
  "interpreter": {
   "hash": "31c9f3cef3e4b8b89a9876e83be0e55410b5f7e641b73fed5b2bc73b0950fd90"
  },
  "jupytext": {
   "cell_metadata_filter": "-all",
   "notebook_metadata_filter": "-all"
  },
  "kernelspec": {
   "display_name": "Python 3.9.12 ('base')",
   "language": "python",
   "name": "python3"
  },
  "language_info": {
   "codemirror_mode": {
    "name": "ipython",
    "version": 3
   },
   "file_extension": ".py",
   "mimetype": "text/x-python",
   "name": "python",
   "nbconvert_exporter": "python",
   "pygments_lexer": "ipython3",
   "version": "3.9.12"
  }
 },
 "nbformat": 4,
 "nbformat_minor": 5
}
