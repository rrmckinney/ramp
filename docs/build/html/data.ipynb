{
 "cells": [
  {
   "cell_type": "markdown",
   "id": "ddabffd1",
   "metadata": {},
   "source": [
    "# Real Time AQ Data\n",
    "\n",
    "*[AQ]: Air Quality\n",
    "*[WFRT]: Weather Forecasting Research Team"
   ]
  },
  {
   "cell_type": "markdown",
   "id": "320fa8b8",
   "metadata": {},
   "source": [
    "To see realtime air quality data from the WRFT rooftop weather station, please click on the cell below and hit ctrl-enter. "
   ]
  },
  {
   "cell_type": "code",
   "execution_count": 22,
   "id": "677c9c9b",
   "metadata": {},
   "outputs": [
    {
     "ename": "NameError",
     "evalue": "name 'date' is not defined",
     "output_type": "error",
     "traceback": [
      "\u001b[0;31m---------------------------------------------------------------------------\u001b[0m",
      "\u001b[0;31mNameError\u001b[0m                                 Traceback (most recent call last)",
      "\u001b[1;32m/Users/rmckinney/ramp/docs/source/data.ipynb Cell 2'\u001b[0m in \u001b[0;36m<cell line: 9>\u001b[0;34m()\u001b[0m\n\u001b[1;32m      <a href='vscode-notebook-cell:/Users/rmckinney/ramp/docs/source/data.ipynb#ch0000001?line=5'>6</a>\u001b[0m \u001b[39mfrom\u001b[39;00m \u001b[39mdatetime\u001b[39;00m \u001b[39mimport\u001b[39;00m date, timedelta\n\u001b[1;32m      <a href='vscode-notebook-cell:/Users/rmckinney/ramp/docs/source/data.ipynb#ch0000001?line=6'>7</a>\u001b[0m \u001b[39mfrom\u001b[39;00m \u001b[39mfunc\u001b[39;00m \u001b[39mimport\u001b[39;00m data\n\u001b[0;32m----> <a href='vscode-notebook-cell:/Users/rmckinney/ramp/docs/source/data.ipynb#ch0000001?line=8'>9</a>\u001b[0m data()\n",
      "File \u001b[0;32m~/ramp/docs/source/func.py:4\u001b[0m, in \u001b[0;36mdata\u001b[0;34m()\u001b[0m\n\u001b[1;32m      <a href='file:///Users/rmckinney/ramp/docs/source/func.py?line=1'>2</a>\u001b[0m \u001b[39mdef\u001b[39;00m \u001b[39mdata\u001b[39m():\n\u001b[0;32m----> <a href='file:///Users/rmckinney/ramp/docs/source/func.py?line=3'>4</a>\u001b[0m     today \u001b[39m=\u001b[39m date\u001b[39m.\u001b[39mtoday()\n\u001b[1;32m      <a href='file:///Users/rmckinney/ramp/docs/source/func.py?line=4'>5</a>\u001b[0m     hist \u001b[39m=\u001b[39m today \u001b[39m-\u001b[39m timedelta(days\u001b[39m=\u001b[39m\u001b[39m7\u001b[39m)\n\u001b[1;32m      <a href='file:///Users/rmckinney/ramp/docs/source/func.py?line=5'>6</a>\u001b[0m     head \u001b[39m=\u001b[39m [\u001b[39m\"\u001b[39m\u001b[39mDate\u001b[39m\u001b[39m\"\u001b[39m,\u001b[39m\"\u001b[39m\u001b[39mCO\u001b[39m\u001b[39m\"\u001b[39m,\u001b[39m\"\u001b[39m\u001b[39mNO\u001b[39m\u001b[39m\"\u001b[39m,\u001b[39m\"\u001b[39m\u001b[39mNO2\u001b[39m\u001b[39m\"\u001b[39m, \u001b[39m\"\u001b[39m\u001b[39mO3\u001b[39m\u001b[39m\"\u001b[39m,\u001b[39m\"\u001b[39m\u001b[39mPM1.0\u001b[39m\u001b[39m\"\u001b[39m,\u001b[39m\"\u001b[39m\u001b[39mPM2.5\u001b[39m\u001b[39m\"\u001b[39m,\u001b[39m\"\u001b[39m\u001b[39mPM10\u001b[39m\u001b[39m\"\u001b[39m]\n",
      "\u001b[0;31mNameError\u001b[0m: name 'date' is not defined"
     ]
    }
   ],
   "source": [
    "import wget\n",
    "import pandas as pd\n",
    "import matplotlib.pyplot as plt \n",
    "import numpy as np\n",
    "import os.path\n",
    "from datetime import date, timedelta\n",
    "from func import data\n",
    "\n",
    "data()\n"
   ]
  }
 ],
 "metadata": {
  "interpreter": {
   "hash": "31c9f3cef3e4b8b89a9876e83be0e55410b5f7e641b73fed5b2bc73b0950fd90"
  },
  "jupytext": {
   "cell_metadata_filter": "-all",
   "notebook_metadata_filter": "-all"
  },
  "kernelspec": {
   "display_name": "Python 3.9.12 ('base')",
   "language": "python",
   "name": "python3"
  },
  "language_info": {
   "codemirror_mode": {
    "name": "ipython",
    "version": 3
   },
   "file_extension": ".py",
   "mimetype": "text/x-python",
   "name": "python",
   "nbconvert_exporter": "python",
   "pygments_lexer": "ipython3",
   "version": "3.9.12"
  }
 },
 "nbformat": 4,
 "nbformat_minor": 5
}
